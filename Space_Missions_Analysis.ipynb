{
 "nbformat": 4,
 "nbformat_minor": 0,
 "metadata": {
  "kernelspec": {
   "display_name": "Python 3",
   "language": "python",
   "name": "python3"
  },
  "language_info": {
   "codemirror_mode": {
    "name": "ipython",
    "version": 3
   },
   "file_extension": ".py",
   "mimetype": "text/x-python",
   "name": "python",
   "nbconvert_exporter": "python",
   "pygments_lexer": "ipython3",
   "version": "3.7.9"
  },
  "papermill": {
   "duration": 28.468597,
   "end_time": "2020-10-20T21:34:26.910951",
   "environment_variables": {},
   "exception": null,
   "input_path": "__notebook__.ipynb",
   "output_path": "__notebook__.ipynb",
   "parameters": {},
   "start_time": "2020-10-20T21:33:58.442354",
   "version": "2.1.0"
  },
  "colab": {
   "name": "Space Missions Analysis (start).ipynb",
   "provenance": []
  }
 },
 "cells": [
  {
   "cell_type": "markdown",
   "metadata": {
    "id": "ka_FkvXBiABo"
   },
   "source": [
    "# Introduction"
   ]
  },
  {
   "cell_type": "markdown",
   "metadata": {
    "papermill": {
     "duration": 0.035434,
     "end_time": "2020-10-20T21:34:01.886225",
     "exception": false,
     "start_time": "2020-10-20T21:34:01.850791",
     "status": "completed"
    },
    "tags": [],
    "id": "AWaMmfxXa-p0"
   },
   "source": [
    "<center><img src=\"https://i.imgur.com/9hLRsjZ.jpg\" height=400></center>\n",
    "\n",
    "This dataset was scraped from [nextspaceflight.com](https://nextspaceflight.com/launches/past/?page=1) and includes all the space missions since the beginning of Space Race between the USA and the Soviet Union in 1957!"
   ]
  },
  {
   "cell_type": "markdown",
   "metadata": {
    "id": "ufzKRKS3bV0r"
   },
   "source": [
    "### Install Package with Country Codes"
   ]
  },
  {
   "cell_type": "code",
   "metadata": {
    "id": "0HxV9o6dbRUE",
    "outputId": "35464d43-d601-4b8f-81fd-6dbd400167f5",
    "colab": {
     "base_uri": "https://localhost:8080/"
    },
    "ExecuteTime": {
     "end_time": "2023-06-19T08:23:09.854368100Z",
     "start_time": "2023-06-19T08:23:08.479175500Z"
    }
   },
   "source": [
    "%pip install iso3166"
   ],
   "execution_count": 1,
   "outputs": [
    {
     "name": "stdout",
     "output_type": "stream",
     "text": [
      "Requirement already satisfied: iso3166 in c:\\users\\ctfua\\desktop\\space-race\\venv\\lib\\site-packages (2.1.1)\n",
      "Note: you may need to restart the kernel to use updated packages.\n"
     ]
    }
   ]
  },
  {
   "cell_type": "markdown",
   "metadata": {
    "id": "sghkhFoLbof8"
   },
   "source": [
    "### Upgrade Plotly\n",
    "\n",
    "Run the cell below if you are working with Google Colab."
   ]
  },
  {
   "cell_type": "code",
   "metadata": {
    "id": "gQ61wy9gbmxd",
    "outputId": "99185d87-acb8-4237-c0f7-bfb18bfd4d39",
    "colab": {
     "base_uri": "https://localhost:8080/"
    },
    "ExecuteTime": {
     "end_time": "2023-06-19T08:23:11.199080900Z",
     "start_time": "2023-06-19T08:23:09.854368100Z"
    }
   },
   "source": [
    "%pip install --upgrade plotly"
   ],
   "execution_count": 2,
   "outputs": [
    {
     "name": "stdout",
     "output_type": "stream",
     "text": [
      "Requirement already satisfied: plotly in c:\\users\\ctfua\\desktop\\space-race\\venv\\lib\\site-packages (5.15.0)\n",
      "Requirement already satisfied: tenacity>=6.2.0 in c:\\users\\ctfua\\desktop\\space-race\\venv\\lib\\site-packages (from plotly) (8.2.2)\n",
      "Requirement already satisfied: packaging in c:\\users\\ctfua\\desktop\\space-race\\venv\\lib\\site-packages (from plotly) (23.1)\n",
      "Note: you may need to restart the kernel to use updated packages.\n"
     ]
    }
   ]
  },
  {
   "cell_type": "markdown",
   "metadata": {
    "id": "ErFDBihUi1jN"
   },
   "source": [
    "### Import Statements"
   ]
  },
  {
   "cell_type": "code",
   "metadata": {
    "_cell_guid": "b1076dfc-b9ad-4769-8c92-a6c4dae69d19",
    "_kg_hide-input": true,
    "_kg_hide-output": true,
    "_uuid": "8f2839f25d086af736a60e9eeb907d3b93b6e0e5",
    "execution": {
     "iopub.execute_input": "2020-10-20T21:34:02.101551Z",
     "iopub.status.busy": "2020-10-20T21:34:02.101085Z",
     "iopub.status.idle": "2020-10-20T21:34:03.726868Z",
     "shell.execute_reply": "2020-10-20T21:34:03.725783Z"
    },
    "papermill": {
     "duration": 1.665326,
     "end_time": "2020-10-20T21:34:03.726995",
     "exception": false,
     "start_time": "2020-10-20T21:34:02.061669",
     "status": "completed"
    },
    "tags": [],
    "id": "xdolY0-Sa-p1",
    "outputId": "7142dedb-82e9-457d-db44-cea4e121bdfe",
    "colab": {
     "base_uri": "https://localhost:8080/"
    },
    "ExecuteTime": {
     "end_time": "2023-06-19T08:23:11.257289800Z",
     "start_time": "2023-06-19T08:23:11.199080900Z"
    }
   },
   "source": [
    "import numpy as np\n",
    "import pandas as pd\n",
    "import plotly.express as px\n",
    "import matplotlib.pyplot as plt\n",
    "import seaborn as sns\n",
    "import plotly.graph_objects as go\n",
    "\n",
    "# These might be helpful:\n",
    "from iso3166 import countries\n",
    "from datetime import datetime, timedelta"
   ],
   "execution_count": 3,
   "outputs": []
  },
  {
   "cell_type": "markdown",
   "metadata": {
    "id": "lovGPRgKxIgo"
   },
   "source": [
    "### Notebook Presentation"
   ]
  },
  {
   "cell_type": "code",
   "metadata": {
    "id": "DHEULCOjxIIm",
    "ExecuteTime": {
     "end_time": "2023-06-19T08:23:11.260927700Z",
     "start_time": "2023-06-19T08:23:11.258413700Z"
    }
   },
   "source": [
    "pd.options.display.float_format = '{:,.2f}'.format"
   ],
   "execution_count": 4,
   "outputs": []
  },
  {
   "cell_type": "markdown",
   "metadata": {
    "papermill": {
     "duration": 0.034606,
     "end_time": "2020-10-20T21:34:03.798396",
     "exception": false,
     "start_time": "2020-10-20T21:34:03.763790",
     "status": "completed"
    },
    "tags": [],
    "id": "yaT3QbjEa-p4"
   },
   "source": [
    "### Load the Data"
   ]
  },
  {
   "cell_type": "code",
   "metadata": {
    "_cell_guid": "79c7e3d0-c299-4dcb-8224-4455121ee9b0",
    "_kg_hide-input": true,
    "_uuid": "d629ff2d2480ee46fbb7e2d37f6b5fab8052498a",
    "execution": {
     "iopub.execute_input": "2020-10-20T21:34:03.874195Z",
     "iopub.status.busy": "2020-10-20T21:34:03.873775Z",
     "iopub.status.idle": "2020-10-20T21:34:03.921919Z",
     "shell.execute_reply": "2020-10-20T21:34:03.921418Z"
    },
    "papermill": {
     "duration": 0.08876,
     "end_time": "2020-10-20T21:34:03.922028",
     "exception": false,
     "start_time": "2020-10-20T21:34:03.833268",
     "status": "completed"
    },
    "tags": [],
    "id": "0lDOu8aka-p4",
    "ExecuteTime": {
     "end_time": "2023-06-19T08:23:11.280207800Z",
     "start_time": "2023-06-19T08:23:11.260927700Z"
    }
   },
   "source": [
    "df_data = pd.read_csv('mission_launches.csv')"
   ],
   "execution_count": 5,
   "outputs": []
  },
  {
   "cell_type": "markdown",
   "metadata": {
    "id": "jAnMiVcVjuKB"
   },
   "source": [
    "# Preliminary Data Exploration\n",
    "\n",
    "* What is the shape of `df_data`? \n",
    "* How many rows and columns does it have?\n",
    "* What are the column names?\n",
    "* Are there any NaN values or duplicates?"
   ]
  },
  {
   "cell_type": "code",
   "metadata": {
    "id": "0dw2hd9UlPmP",
    "ExecuteTime": {
     "end_time": "2023-06-19T08:23:11.308105100Z",
     "start_time": "2023-06-19T08:23:11.284209100Z"
    }
   },
   "source": [
    "# Shape of df_data\n",
    "print(\"Shape of df_data:\", df_data.shape)\n",
    "# Number of rows and columns\n",
    "num_rows = df_data.shape[0]\n",
    "num_cols = df_data.shape[1]\n",
    "print(\"Number of rows:\", num_rows)\n",
    "print(\"Number of columns:\", num_cols)\n",
    "# Column names\n",
    "column_names = df_data.columns\n",
    "print(\"Column names:\", column_names)\n",
    "# Check for NaN values\n",
    "print(\"Number of NaN values:\\n\", df_data.isna().sum())\n",
    "# Check for duplicates\n",
    "num_duplicates = df_data.duplicated().sum()\n",
    "print(\"Number of duplicates:\", num_duplicates)\n"
   ],
   "execution_count": 6,
   "outputs": [
    {
     "name": "stdout",
     "output_type": "stream",
     "text": [
      "Shape of df_data: (4324, 9)\n",
      "Number of rows: 4324\n",
      "Number of columns: 9\n",
      "Column names: Index(['Sno', 'SNO', 'Organisation', 'Location', 'Date', 'Detail',\n",
      "       'Rocket_Status', 'Price', 'Mission_Status'],\n",
      "      dtype='object')\n",
      "Number of NaN values:\n",
      " Sno                  0\n",
      "SNO                  0\n",
      "Organisation         0\n",
      "Location             0\n",
      "Date                 0\n",
      "Detail               0\n",
      "Rocket_Status        0\n",
      "Price             3360\n",
      "Mission_Status       0\n",
      "dtype: int64\n",
      "Number of duplicates: 0\n"
     ]
    }
   ]
  },
  {
   "cell_type": "markdown",
   "metadata": {
    "papermill": {
     "duration": 0.05406,
     "end_time": "2020-10-20T21:34:04.149973",
     "exception": false,
     "start_time": "2020-10-20T21:34:04.095913",
     "status": "completed"
    },
    "tags": [],
    "id": "KUN30y6ja-p9"
   },
   "source": [
    "## Data Cleaning - Check for Missing Values and Duplicates\n",
    "\n",
    "Consider removing columns containing junk data."
   ]
  },
  {
   "cell_type": "code",
   "metadata": {
    "id": "SfxVooCYk2As",
    "ExecuteTime": {
     "end_time": "2023-06-19T08:23:11.309187100Z",
     "start_time": "2023-06-19T08:23:11.291553700Z"
    }
   },
   "source": [
    "# Identify columns containing junk data\n",
    "junk_columns = ['Sno', 'SNO']  # Replace with actual column names to be removed\n",
    "\n",
    "# Drop the junk columns\n",
    "df_data = df_data.drop(junk_columns, axis=1)\n",
    "\n",
    "# Verify the updated DataFrame\n",
    "print(\"Updated DataFrame after removing junk columns:\")\n",
    "print(df_data.head())\n"
   ],
   "execution_count": 6,
   "outputs": []
  },
  {
   "cell_type": "markdown",
   "metadata": {
    "papermill": {
     "duration": 0.036712,
     "end_time": "2020-10-20T21:34:05.227032",
     "exception": false,
     "start_time": "2020-10-20T21:34:05.190320",
     "status": "completed"
    },
    "tags": [],
    "id": "QHon_T5sa-p_"
   },
   "source": [
    "## Descriptive Statistics"
   ]
  },
  {
   "cell_type": "code",
   "metadata": {
    "id": "Fh1-libjkJIK",
    "ExecuteTime": {
     "end_time": "2023-06-19T08:23:11.309187100Z",
     "start_time": "2023-06-19T08:23:11.293495100Z"
    }
   },
   "source": [
    "# Compute descriptive statistics\n",
    "statistics = df_data.describe()\n",
    "\n",
    "# Print the statistics\n",
    "print(\"Descriptive Statistics:\")\n",
    "print(statistics)"
   ],
   "execution_count": 6,
   "outputs": []
  },
  {
   "cell_type": "markdown",
   "metadata": {
    "id": "cgCjcpeUkKPW"
   },
   "source": [
    "# Number of Launches per Company\n",
    "\n",
    "Create a chart that shows the number of space mission launches by organisation."
   ]
  },
  {
   "cell_type": "code",
   "metadata": {
    "id": "rxvcIrtskxYB",
    "ExecuteTime": {
     "end_time": "2023-06-19T08:23:11.309187100Z",
     "start_time": "2023-06-19T08:23:11.299742900Z"
    }
   },
   "source": [
    "# Count the number of launches per company\n",
    "launches_by_company = df_data['Organisation'].value_counts().reset_index()\n",
    "# Rename the columns\n",
    "launches_by_company.columns = ['Organisation', 'Number of Launches']"
   ],
   "execution_count": 6,
   "outputs": []
  },
  {
   "cell_type": "code",
   "metadata": {
    "id": "qgneHUbWkw5v",
    "ExecuteTime": {
     "end_time": "2023-06-19T08:23:11.309692500Z",
     "start_time": "2023-06-19T08:23:11.302012900Z"
    }
   },
   "source": [
    "# Sort the data by number of launches in descending order\n",
    "launches_by_company = launches_by_company.sort_values('Number of Launches', ascending=False)\n",
    "# Create the bar chart\n",
    "plt.figure(figsize=(12, 8))  # Increase figure size for better visibility\n",
    "sns.barplot(x='Number of Launches', y='Organisation', data=launches_by_company, palette='viridis')\n",
    "plt.xlabel('Number of Launches')\n",
    "plt.ylabel('Organisation')\n",
    "plt.title('Number of Space Mission Launches by Organisation')\n",
    "\n",
    "plt.tight_layout()  # Add spacing between plot elements\n"
   ],
   "execution_count": 6,
   "outputs": []
  },
  {
   "cell_type": "code",
   "execution_count": null,
   "outputs": [],
   "source": [
    "plt.show()  # Display the plot"
   ],
   "metadata": {
    "collapsed": false
   }
  },
  {
   "cell_type": "markdown",
   "metadata": {
    "id": "7Gwteht2kR_h"
   },
   "source": [
    "# Number of Active versus Retired Rockets\n",
    "\n",
    "How many rockets are active compared to those that are decomissioned? "
   ]
  },
  {
   "cell_type": "code",
   "metadata": {
    "id": "SxmOWS9cmTq6",
    "ExecuteTime": {
     "end_time": "2023-06-19T08:23:11.309692500Z",
     "start_time": "2023-06-19T08:23:11.304293500Z"
    }
   },
   "source": [
    "# Count the number of active and retired rockets\n",
    "rocket_status_counts = df_data['Rocket_Status'].value_counts()\n",
    "# Count the number of successful and failed missions\n",
    "mission_status_counts = df_data['Mission_Status'].value_counts()"
   ],
   "execution_count": 6,
   "outputs": []
  },
  {
   "cell_type": "code",
   "metadata": {
    "id": "ydj0-OZ6mToH",
    "ExecuteTime": {
     "end_time": "2023-06-19T08:23:11.309692500Z",
     "start_time": "2023-06-19T08:23:11.306591400Z"
    }
   },
   "source": [
    "\n",
    "print(\"Number of Active Rockets:\", rocket_status_counts['StatusActive'])\n",
    "print(\"Number of Retired Rockets:\", rocket_status_counts['StatusRetired'])\n"
   ],
   "execution_count": 6,
   "outputs": []
  },
  {
   "cell_type": "markdown",
   "metadata": {
    "id": "y9WtP5xWkYkp"
   },
   "source": [
    "# Distribution of Mission Status\n",
    "\n",
    "How many missions were successful?\n",
    "How many missions failed?"
   ]
  },
  {
   "cell_type": "code",
   "metadata": {
    "id": "83kY1alqmUhb",
    "ExecuteTime": {
     "end_time": "2023-06-19T08:23:11.313346200Z",
     "start_time": "2023-06-19T08:23:11.309187100Z"
    }
   },
   "source": [
    "# Count the number of successful and failed missions\n",
    "mission_status_counts = df_data['Mission_Status'].value_counts()"
   ],
   "execution_count": 6,
   "outputs": []
  },
  {
   "cell_type": "code",
   "metadata": {
    "id": "bdmXcaopmUeZ",
    "ExecuteTime": {
     "end_time": "2023-06-19T08:23:11.313346200Z",
     "start_time": "2023-06-19T08:23:11.310698100Z"
    }
   },
   "source": [
    "# Display the counts\n",
    "print(\"Number of Successful Missions:\", mission_status_counts['Success'])\n",
    "print(\"Number of Failed Missions:\", mission_status_counts['Failure'])"
   ],
   "execution_count": 6,
   "outputs": []
  },
  {
   "cell_type": "markdown",
   "metadata": {
    "papermill": {
     "duration": 0.03854,
     "end_time": "2020-10-20T21:34:05.968626",
     "exception": false,
     "start_time": "2020-10-20T21:34:05.930086",
     "status": "completed"
    },
    "tags": [],
    "id": "jgTCihuoa-qH"
   },
   "source": [
    "# How Expensive are the Launches? \n",
    "\n",
    "Create a histogram and visualise the distribution. The price column is given in USD millions (careful of missing values). "
   ]
  },
  {
   "cell_type": "code",
   "metadata": {
    "id": "PLOMhzZFnSCO",
    "ExecuteTime": {
     "end_time": "2023-06-19T08:23:11.315956100Z",
     "start_time": "2023-06-19T08:23:11.314949600Z"
    }
   },
   "source": [
    "# Filter out missing values in the Price column\n",
    "launch_prices = df_data['Price'].dropna()\n",
    "\n",
    "# Plot the histogram with wider spacing on the x-axis\n",
    "plt.figure(figsize=(10, 8))\n",
    "sns.histplot(launch_prices, bins=20, kde=True)\n",
    "\n",
    "# Set plot title and axis labels\n",
    "plt.title('Distribution of Launch Prices')\n",
    "plt.xlabel('Price (USD millions)')\n",
    "plt.ylabel('Count')\n",
    "\n",
    "# Adjust x-axis spacing\n",
    "plt.xticks(rotation=45, ha='right')"
   ],
   "execution_count": 6,
   "outputs": []
  },
  {
   "cell_type": "code",
   "metadata": {
    "id": "ru0IcY4nnSFU",
    "ExecuteTime": {
     "end_time": "2023-06-19T08:23:11.318797800Z",
     "start_time": "2023-06-19T08:23:11.317287100Z"
    }
   },
   "source": [
    "plt.show()  # Display the plot"
   ],
   "execution_count": 6,
   "outputs": []
  },
  {
   "cell_type": "markdown",
   "metadata": {
    "id": "QiNtigQDne3E"
   },
   "source": [
    "# Use a Choropleth Map to Show the Number of Launches by Country\n",
    "\n",
    "* Create a choropleth map using [the plotly documentation](https://plotly.com/python/choropleth-maps/)\n",
    "* Experiment with [plotly's available colours](https://plotly.com/python/builtin-colorscales/). I quite like the sequential colour `matter` on this map. \n",
    "* You'll need to extract a `country` feature as well as change the country names that no longer exist.\n",
    "\n",
    "Wrangle the Country Names\n",
    "\n",
    "You'll need to use a 3 letter country code for each country. You might have to change some country names.\n",
    "\n",
    "* Russia is the Russian Federation\n",
    "* New Mexico should be USA\n",
    "* Yellow Sea refers to China\n",
    "* Shahrud Missile Test Site should be Iran\n",
    "* Pacific Missile Range Facility should be USA\n",
    "* Barents Sea should be Russian Federation\n",
    "* Gran Canaria should be USA\n",
    "\n",
    "\n",
    "You can use the iso3166 package to convert the country names to Alpha3 format."
   ]
  },
  {
   "cell_type": "code",
   "metadata": {
    "id": "Y46-4GHrozhF",
    "ExecuteTime": {
     "end_time": "2023-06-19T08:23:11.322335500Z",
     "start_time": "2023-06-19T08:23:11.319799Z"
    }
   },
   "source": [
    "# Extract country from location\n",
    "def extract_country(location):\n",
    "    words = location.split()\n",
    "    country_name = words[-1]\n",
    "    return country_name\n",
    "\n",
    "\n",
    "df_data['Country'] = df_data['Location'].apply(extract_country)\n",
    "\n",
    "# Wrangle country names\n",
    "country_mapping = {\n",
    "    'Russia': 'RUS',\n",
    "    'New Mexico': 'USA',\n",
    "    'Yellow Sea': 'China',\n",
    "    'Shahrud Missile Test Site': 'Iran',\n",
    "    'Pacific Missile Range Facility': 'USA',\n",
    "    'Barents Sea': 'RUS',\n",
    "    'Gran Canaria': 'USA'\n",
    "}\n",
    "\n",
    "df_data['Country'] = df_data['Country'].replace(country_mapping)\n",
    "\n",
    "# Group by country and count the number of launches\n",
    "launches_by_country = df_data['Country'].value_counts().reset_index()\n",
    "launches_by_country.columns = ['Country', 'Launches']\n",
    "\n",
    "# Create choropleth map\n",
    "fig = px.choropleth(\n",
    "    launches_by_country,\n",
    "    locations='Country',\n",
    "    locationmode='ISO-3',\n",
    "    color='Launches',\n",
    "    color_continuous_scale='matter',\n",
    "    title='Number of Launches by Country'\n",
    ")\n",
    "\n",
    "# Update layout and show the map\n",
    "fig.update_layout(\n",
    "    margin=dict(l=0, r=0, t=60, b=0),\n",
    "    title_font=dict(size=20),\n",
    "    coloraxis_colorbar=dict(\n",
    "        title='Launches',\n",
    "        thicknessmode='pixels', thickness=100,\n",
    "        lenmode='pixels', len=300,\n",
    "        yanchor='middle', y=0.5\n",
    "    )\n",
    ")"
   ],
   "execution_count": 6,
   "outputs": []
  },
  {
   "cell_type": "code",
   "metadata": {
    "id": "ESGRWiX6ozZG",
    "ExecuteTime": {
     "end_time": "2023-06-19T08:23:11.324927300Z",
     "start_time": "2023-06-19T08:23:11.323417200Z"
    }
   },
   "source": [
    "fig.show()  # Display the map"
   ],
   "execution_count": 6,
   "outputs": []
  },
  {
   "cell_type": "markdown",
   "metadata": {
    "id": "F3pwYSUlo_AK"
   },
   "source": [
    "# Use a Choropleth Map to Show the Number of Failures by Country\n"
   ]
  },
  {
   "cell_type": "code",
   "metadata": {
    "id": "8BH4ICtro9I0",
    "ExecuteTime": {
     "end_time": "2023-06-19T08:23:11.327386900Z",
     "start_time": "2023-06-19T08:23:11.325877600Z"
    }
   },
   "source": [
    "# Group the data by country and count the failures\n",
    "failures_by_country = df_data[df_data['Mission_Status'] == 'Failure'].groupby('Country').size().reset_index(name='Failures')\n",
    "\n",
    "# Create a choropleth map figure\n",
    "fig = go.Figure(data=go.Choropleth(\n",
    "    locations=failures_by_country['Country'],\n",
    "    z=failures_by_country['Failures'],\n",
    "    text=failures_by_country['Country'],\n",
    "    colorscale='Reds',\n",
    "    autocolorscale=False,\n",
    "    reversescale=True,\n",
    "    marker_line_color='darkgray',\n",
    "    marker_line_width=0.5,\n",
    "    colorbar_title='Failures'\n",
    "))\n",
    "\n",
    "# Set the title and layout of the figure\n",
    "fig.update_layout(\n",
    "    title_text='Number of Failures by Country',\n",
    "    geo=dict(\n",
    "        showframe=False,\n",
    "        showcoastlines=False,\n",
    "        projection_type='equirectangular'\n",
    "    )\n",
    ")"
   ],
   "execution_count": 6,
   "outputs": []
  },
  {
   "cell_type": "code",
   "metadata": {
    "id": "sfw-q7Obo9GM",
    "ExecuteTime": {
     "end_time": "2023-06-19T08:23:11.426009300Z",
     "start_time": "2023-06-19T08:23:11.328387900Z"
    }
   },
   "source": [
    "fig.show() # Display the map"
   ],
   "execution_count": 6,
   "outputs": []
  },
  {
   "cell_type": "markdown",
   "metadata": {
    "papermill": {
     "duration": 0.039343,
     "end_time": "2020-10-20T21:34:06.591694",
     "exception": false,
     "start_time": "2020-10-20T21:34:06.552351",
     "status": "completed"
    },
    "tags": [],
    "id": "9LqcqSrKa-qN"
   },
   "source": [
    "# Create a Plotly Sunburst Chart of the countries, organisations, and mission status. "
   ]
  },
  {
   "cell_type": "code",
   "metadata": {
    "id": "MwUfpoByo3_J",
    "ExecuteTime": {
     "end_time": "2023-06-19T08:23:11.431626700Z",
     "start_time": "2023-06-19T08:23:11.332112100Z"
    }
   },
   "source": [
    "# Group the data by countries, organizations, and mission status\n",
    "sunburst_data = df_data.groupby(['Location', 'Organisation', 'Mission_Status']).size().reset_index(name='Count')\n",
    "\n",
    "fig = go.Figure(go.Sunburst(\n",
    "    labels=sunburst_data['Location'] + ' - ' + sunburst_data['Organisation'] + ' - ' + sunburst_data['Mission_Status'],\n",
    "    parents=[''] * len(sunburst_data),\n",
    "    values=sunburst_data['Count'],\n",
    "))"
   ],
   "execution_count": 6,
   "outputs": []
  },
  {
   "cell_type": "code",
   "metadata": {
    "id": "-ZwZkx1ro4X9",
    "ExecuteTime": {
     "end_time": "2023-06-19T08:23:11.431626700Z",
     "start_time": "2023-06-19T08:23:11.334240100Z"
    }
   },
   "source": [
    "fig.update_layout(\n",
    "    margin=dict(t=0, l=0, r=0, b=0),\n",
    "    width=800,\n",
    "    height=800,\n",
    "    title='Sunburst Chart of Countries, Organizations, and Mission Status',\n",
    ")\n"
   ],
   "execution_count": 6,
   "outputs": []
  },
  {
   "cell_type": "code",
   "metadata": {
    "id": "VfTGp2hLo4Ok",
    "ExecuteTime": {
     "end_time": "2023-06-19T08:23:11.432609200Z",
     "start_time": "2023-06-19T08:23:11.337047900Z"
    }
   },
   "source": [
    "fig.show() # Display the chart"
   ],
   "execution_count": 6,
   "outputs": []
  },
  {
   "cell_type": "markdown",
   "metadata": {
    "papermill": {
     "duration": 0.062712,
     "end_time": "2020-10-20T21:34:07.951200",
     "exception": false,
     "start_time": "2020-10-20T21:34:07.888488",
     "status": "completed"
    },
    "tags": [],
    "id": "70pG1BCZa-qY"
   },
   "source": [
    "# Analyse the Total Amount of Money Spent by Organisation on Space Missions"
   ]
  },
  {
   "cell_type": "code",
   "metadata": {
    "id": "IaJYxwEVpKHy",
    "ExecuteTime": {
     "end_time": "2023-06-19T08:23:11.432609200Z",
     "start_time": "2023-06-19T08:23:11.339669200Z"
    }
   },
   "source": [
    "# Convert the 'Price' column to numeric\n",
    "df_data['Price'] = pd.to_numeric(df_data['Price'], errors='coerce')\n",
    "\n",
    "# Group the data by organization and calculate the sum of money spent\n",
    "money_spent_by_organisation = df_data.groupby('Organisation')['Price'].sum().reset_index()\n",
    "\n",
    "# Sort the data in descending order based on the total amount spent\n",
    "money_spent_by_organisation = money_spent_by_organisation.sort_values('Price', ascending=False)\n"
   ],
   "execution_count": 6,
   "outputs": []
  },
  {
   "cell_type": "code",
   "metadata": {
    "id": "orIFf-appPDL",
    "ExecuteTime": {
     "end_time": "2023-06-19T08:23:11.432609200Z",
     "start_time": "2023-06-19T08:23:11.342147400Z"
    }
   },
   "source": [
    "# Create a bar plot to visualize the total amount spent by each organization\n",
    "fig = px.bar(money_spent_by_organisation, x='Organisation', y='Price',\n",
    "             labels={'Organisation': 'Organisation', 'Price': 'Total Amount Spent'},\n",
    "             title='Total Amount of Money Spent by Organisation on Space Missions')"
   ],
   "execution_count": 6,
   "outputs": []
  },
  {
   "cell_type": "code",
   "metadata": {
    "id": "86OMPfpEpO7R",
    "ExecuteTime": {
     "end_time": "2023-06-19T08:23:11.432609200Z",
     "start_time": "2023-06-19T08:23:11.344521400Z"
    }
   },
   "source": [
    "fig.show()  # Display the chart"
   ],
   "execution_count": 6,
   "outputs": []
  },
  {
   "cell_type": "markdown",
   "metadata": {
    "id": "DpsWkPxzpPXs"
   },
   "source": [
    "# Analyse the Amount of Money Spent by Organisation per Launch"
   ]
  },
  {
   "cell_type": "code",
   "metadata": {
    "id": "opYJ6GiRpTk5",
    "ExecuteTime": {
     "end_time": "2023-06-19T08:23:11.432609200Z",
     "start_time": "2023-06-19T08:23:11.346907200Z"
    }
   },
   "source": [
    "# Convert the 'Price' column to numeric\n",
    "df_data['Price'] = pd.to_numeric(df_data['Price'], errors='coerce')\n",
    "\n",
    "# Group the data by organisation and calculate the sum of money spent and the number of launches\n",
    "money_spent_by_organisation = df_data.groupby('Organisation').agg({'Price': 'sum', 'Mission_Status': 'size'}).reset_index()\n",
    "money_spent_by_organisation.columns = ['Organisation', 'Total Amount Spent', 'Number of Launches']\n",
    "\n",
    "# Calculate the amount spent per launch\n",
    "money_spent_by_organisation['Amount Spent per Launch'] = money_spent_by_organisation['Total Amount Spent'] / money_spent_by_organisation['Number of Launches']\n",
    "\n",
    "# Sort the data in descending order based on the amount spent per launch\n",
    "money_spent_by_organisation = money_spent_by_organisation.sort_values('Amount Spent per Launch', ascending=False)\n"
   ],
   "execution_count": 6,
   "outputs": []
  },
  {
   "cell_type": "code",
   "metadata": {
    "id": "VEkHzAk2pTvj",
    "ExecuteTime": {
     "end_time": "2023-06-19T08:23:11.432609200Z",
     "start_time": "2023-06-19T08:23:11.349198700Z"
    }
   },
   "source": [
    "# Create a bar plot to visualize the amount spent per launch by each organisation\n",
    "fig = px.bar(money_spent_by_organisation, x='Organisation', y='Amount Spent per Launch',\n",
    "             labels={'Organisation': 'Organisation', 'Amount Spent per Launch': 'Amount Spent per Launch'},\n",
    "             title='Amount of Money Spent per Launch by Organisation')\n"
   ],
   "execution_count": 6,
   "outputs": []
  },
  {
   "cell_type": "code",
   "metadata": {
    "id": "R5rFf501pKXD",
    "ExecuteTime": {
     "end_time": "2023-06-19T08:23:11.433615800Z",
     "start_time": "2023-06-19T08:23:11.351467200Z"
    }
   },
   "source": [
    "fig.show()  # Display the chart"
   ],
   "execution_count": 6,
   "outputs": []
  },
  {
   "cell_type": "markdown",
   "metadata": {
    "papermill": {
     "duration": 0.042662,
     "end_time": "2020-10-20T21:34:09.943196",
     "exception": false,
     "start_time": "2020-10-20T21:34:09.900534",
     "status": "completed"
    },
    "tags": [],
    "id": "yRa1BbPoa-qf"
   },
   "source": [
    "# Chart the Number of Launches per Year"
   ]
  },
  {
   "cell_type": "code",
   "metadata": {
    "id": "_9FohVh3pcAJ",
    "ExecuteTime": {
     "end_time": "2023-06-19T08:23:11.433615800Z",
     "start_time": "2023-06-19T08:23:11.354276400Z"
    }
   },
   "source": [
    "# Extract the date without the time component\n",
    "df_data['Date'] = df_data['Date'].str.split(' ').str[:4].str.join(' ')\n",
    "\n",
    "# Convert the 'Date' column to datetime format\n",
    "df_data['Date'] = pd.to_datetime(df_data['Date'], format='%a %b %d, %Y', utc=True)\n",
    "\n",
    "# Extract the year from the 'Date' column\n",
    "df_data['Year'] = df_data['Date'].dt.year\n",
    "\n",
    "# Group the data by year and count the number of launches\n",
    "launches_per_year = df_data.groupby('Year').size().reset_index(name='Number of Launches')"
   ],
   "execution_count": 6,
   "outputs": []
  },
  {
   "cell_type": "code",
   "metadata": {
    "id": "b2pggcZBpb4x",
    "ExecuteTime": {
     "end_time": "2023-06-19T08:23:11.433615800Z",
     "start_time": "2023-06-19T08:23:11.356039600Z"
    }
   },
   "source": [
    "# Create a line plot to visualize the number of launches per year\n",
    "fig = px.line(launches_per_year, x='Year', y='Number of Launches',\n",
    "              labels={'Year': 'Year', 'Number of Launches': 'Number of Launches'},\n",
    "              title='Number of Launches per Year')"
   ],
   "execution_count": 6,
   "outputs": []
  },
  {
   "cell_type": "code",
   "execution_count": null,
   "outputs": [],
   "source": [
    "fig.show()  # Display the chart"
   ],
   "metadata": {
    "collapsed": false
   }
  },
  {
   "cell_type": "markdown",
   "metadata": {
    "id": "NomJVLi3tIaM"
   },
   "source": [
    "# Chart the Number of Launches Month-on-Month until the Present\n",
    "\n",
    "Which month has seen the highest number of launches in all time? Superimpose a rolling average on the month on month time series chart. "
   ]
  },
  {
   "cell_type": "code",
   "metadata": {
    "id": "H1N2aBs5tH9z",
    "ExecuteTime": {
     "end_time": "2023-06-19T08:23:11.433615800Z",
     "start_time": "2023-06-19T08:23:11.357550800Z"
    }
   },
   "source": [
    "# Convert the 'Date' column to datetime format\n",
    "df_data['Date'] = pd.to_datetime(df_data['Date'], format='%a %b %d, %Y %H:%M %Z')\n",
    "\n",
    "# Extract the month and year from the 'Date' column\n",
    "df_data['Month'] = df_data['Date'].dt.strftime('%Y-%m')\n",
    "\n",
    "# Group the data by month and count the number of launches\n",
    "launches_per_month = df_data.groupby('Month').size().reset_index(name='Number of Launches')\n",
    "\n",
    "# Calculate the rolling average with a window size of 3 months\n",
    "launches_per_month['Rolling Average'] = launches_per_month['Number of Launches'].rolling(window=3).mean()\n",
    "\n",
    "# Find the month with the highest number of launches\n",
    "max_month = launches_per_month.loc[launches_per_month['Number of Launches'].idxmax(), 'Month']\n",
    "max_launches = launches_per_month['Number of Launches'].max()"
   ],
   "execution_count": 6,
   "outputs": []
  },
  {
   "cell_type": "code",
   "metadata": {
    "id": "pfw0aX1lpdRv",
    "ExecuteTime": {
     "end_time": "2023-06-19T08:23:11.433615800Z",
     "start_time": "2023-06-19T08:23:11.360594Z"
    }
   },
   "source": [
    "# Create the month-on-month chart with rolling average\n",
    "fig = px.line(launches_per_month, x='Month', y='Number of Launches',\n",
    "              title='Number of Launches Month-on-Month',\n",
    "              labels={'Month': 'Month', 'Number of Launches': 'Number of Launches'})\n",
    "\n",
    "fig.add_scatter(x=launches_per_month['Month'], y=launches_per_month['Rolling Average'],\n",
    "                mode='lines', name='Rolling Average')\n",
    "\n",
    "# Highlight the month with the highest number of launches\n",
    "fig.add_annotation(x=max_month, y=max_launches,\n",
    "                   text=f'Max: {max_month} ({max_launches} launches)',\n",
    "                   showarrow=True, arrowhead=1)"
   ],
   "execution_count": 6,
   "outputs": []
  },
  {
   "cell_type": "code",
   "execution_count": null,
   "outputs": [],
   "source": [
    "fig.show()  # Display the chart"
   ],
   "metadata": {
    "collapsed": false
   }
  },
  {
   "cell_type": "markdown",
   "metadata": {
    "papermill": {
     "duration": 0.044409,
     "end_time": "2020-10-20T21:34:10.162592",
     "exception": false,
     "start_time": "2020-10-20T21:34:10.118183",
     "status": "completed"
    },
    "tags": [],
    "id": "t-avMIZoa-qh"
   },
   "source": [
    "# Launches per Month: Which months are most popular and least popular for launches?\n",
    "\n",
    "Some months have better weather than others. Which time of year seems to be best for space missions?"
   ]
  },
  {
   "cell_type": "code",
   "metadata": {
    "id": "zmtp5uBHppFG",
    "ExecuteTime": {
     "end_time": "2023-06-19T08:23:11.433615800Z",
     "start_time": "2023-06-19T08:23:11.363079100Z"
    }
   },
   "source": [
    "# Load the data into a DataFrame (assuming the data is already loaded into 'df_data')\n",
    "df_data['Date'] = pd.to_datetime(df_data['Date'], format='%a %b %d, %Y %H:%M %Z')\n",
    "df_data['Month'] = df_data['Date'].dt.month\n",
    "df_data['Year'] = df_data['Date'].dt.year\n",
    "\n",
    "# Calculate the number of launches per month\n",
    "launches_per_month = df_data.groupby(['Month', 'Year']).size().reset_index(name='Launches')\n",
    "\n",
    "# Calculate the average number of launches per month\n",
    "average_launches_per_month = launches_per_month.groupby('Month').mean().reset_index()\n",
    "\n",
    "# Sort the data by the average number of launches\n",
    "sorted_data = average_launches_per_month.sort_values('Launches', ascending=False)"
   ],
   "execution_count": 6,
   "outputs": []
  },
  {
   "cell_type": "code",
   "metadata": {
    "id": "fnk2m_cpppJo",
    "ExecuteTime": {
     "end_time": "2023-06-19T08:23:11.433615800Z",
     "start_time": "2023-06-19T08:23:11.365331300Z"
    }
   },
   "source": [
    "# Visualize the launches per month\n",
    "fig = px.bar(sorted_data, x='Month', y='Launches', labels={'Month': 'Month', 'Launches': 'Avg. Number of Launches'})\n",
    "fig.update_layout(title='Average Launches per Month')"
   ],
   "execution_count": 6,
   "outputs": []
  },
  {
   "cell_type": "code",
   "execution_count": null,
   "outputs": [],
   "source": [
    "fig.show()  # Display the chart"
   ],
   "metadata": {
    "collapsed": false
   }
  },
  {
   "cell_type": "markdown",
   "metadata": {
    "papermill": {
     "duration": 0.067915,
     "end_time": "2020-10-20T21:34:11.122539",
     "exception": false,
     "start_time": "2020-10-20T21:34:11.054624",
     "status": "completed"
    },
    "tags": [],
    "id": "dPQ_N_sfa-qo"
   },
   "source": [
    "# How has the Launch Price varied Over Time? \n",
    "\n",
    "Create a line chart that shows the average price of rocket launches over time. "
   ]
  },
  {
   "cell_type": "code",
   "metadata": {
    "id": "hFc-2M5-qCrv",
    "ExecuteTime": {
     "end_time": "2023-06-19T08:23:11.433615800Z",
     "start_time": "2023-06-19T08:23:11.370923300Z"
    }
   },
   "source": [
    "# Load the data into a DataFrame (assuming the data is already loaded into 'df_data')\n",
    "df_data['Date'] = pd.to_datetime(df_data['Date'], format='%a %b %d, %Y %H:%M %Z')\n",
    "df_data['Year'] = df_data['Date'].dt.year\n",
    "\n",
    "# Calculate the average price of rocket launches per year\n",
    "average_price_by_year = df_data.groupby('Year')['Price'].mean().reset_index()\n"
   ],
   "execution_count": 6,
   "outputs": []
  },
  {
   "cell_type": "code",
   "metadata": {
    "id": "ggYFiAsEqC6J",
    "ExecuteTime": {
     "end_time": "2023-06-19T08:23:11.434559800Z",
     "start_time": "2023-06-19T08:23:11.372690700Z"
    }
   },
   "source": [
    "fig = px.line(average_price_by_year, x='Year', y='Price', labels={'Year': 'Year', 'Price': 'Average Launch Price'})\n",
    "fig.update_layout(title='Average Launch Price Over Time')"
   ],
   "execution_count": 6,
   "outputs": []
  },
  {
   "cell_type": "code",
   "execution_count": null,
   "outputs": [],
   "source": [
    "fig.show()  # Display the chart"
   ],
   "metadata": {
    "collapsed": false
   }
  },
  {
   "cell_type": "markdown",
   "metadata": {
    "papermill": {
     "duration": 0.047152,
     "end_time": "2020-10-20T21:34:11.681371",
     "exception": false,
     "start_time": "2020-10-20T21:34:11.634219",
     "status": "completed"
    },
    "tags": [],
    "id": "8OYrWyiOa-qs"
   },
   "source": [
    "# Chart the Number of Launches over Time by the Top 10 Organisations. \n",
    "\n",
    "How has the dominance of launches changed over time between the different players? "
   ]
  },
  {
   "cell_type": "code",
   "metadata": {
    "id": "RcsrPPpAqVFj",
    "ExecuteTime": {
     "end_time": "2023-06-19T08:23:11.434559800Z",
     "start_time": "2023-06-19T08:23:11.374900500Z"
    }
   },
   "source": [
    "# Load the data into a DataFrame (assuming the data is already loaded into 'df_data')\n",
    "\n",
    "# Calculate the number of launches per organization per year\n",
    "launches_by_organization_year = df_data.groupby(['Year', 'Organisation']).size().reset_index(name='Number of Launches')\n",
    "top_10_organizations = df_data['Organisation'].value_counts().nlargest(10).index\n",
    "launches_by_organization_year_top_10 = launches_by_organization_year[launches_by_organization_year['Organisation'].isin(top_10_organizations)]"
   ],
   "execution_count": 6,
   "outputs": []
  },
  {
   "cell_type": "code",
   "metadata": {
    "id": "1IgfafiyqWEe",
    "ExecuteTime": {
     "end_time": "2023-06-19T08:23:11.434559800Z",
     "start_time": "2023-06-19T08:23:11.377316600Z"
    }
   },
   "source": [
    "# Visualize the number of launches over time by the top 10 organizations\n",
    "fig = px.line(launches_by_organization_year_top_10, x='Year', y='Number of Launches', color='Organisation',\n",
    "              labels={'Year': 'Year', 'Number of Launches': 'Number of Launches', 'Organisation': 'Organization'},\n",
    "              title='Number of Launches Over Time by Top 10 Organizations')"
   ],
   "execution_count": 6,
   "outputs": []
  },
  {
   "cell_type": "code",
   "metadata": {
    "id": "akCDKT8CqVjG",
    "ExecuteTime": {
     "end_time": "2023-06-19T08:23:11.434559800Z",
     "start_time": "2023-06-19T08:23:11.379650200Z"
    }
   },
   "source": [
    "fig.show()  # Display the chart"
   ],
   "execution_count": 6,
   "outputs": []
  },
  {
   "cell_type": "markdown",
   "metadata": {
    "papermill": {
     "duration": 0.052399,
     "end_time": "2020-10-20T21:34:13.756781",
     "exception": false,
     "start_time": "2020-10-20T21:34:13.704382",
     "status": "completed"
    },
    "tags": [],
    "id": "6Cm8_ch6a-q7"
   },
   "source": [
    "# Cold War Space Race: USA vs USSR\n",
    "\n",
    "The cold war lasted from the start of the dataset up until 1991. "
   ]
  },
  {
   "cell_type": "code",
   "metadata": {
    "id": "AcE_U8csrICL",
    "ExecuteTime": {
     "end_time": "2023-06-19T08:23:11.434559800Z",
     "start_time": "2023-06-19T08:23:11.381879200Z"
    }
   },
   "source": [
    "# Load the data into a DataFrame (assuming the data is already loaded into 'df_data')\n",
    "\n",
    "# Filter the data for launches during the Cold War period (up until 1991)\n",
    "df_cold_war = df_data[df_data['Year'] <= 1991]\n",
    "\n",
    "# Filter the data for launches by the top two organizations: NASA and RVSN USSR\n",
    "top_2_organizations = ['NASA', 'RVSN USSR']\n",
    "df_cold_war_top_2 = df_cold_war[df_cold_war['Organisation'].isin(top_2_organizations)]\n",
    "\n",
    "# Calculate the number of launches per year by the top two organizations\n",
    "launches_by_year_top_2 = df_cold_war_top_2.groupby(['Year', 'Organisation']).size().reset_index(name='Number of Launches')\n"
   ],
   "execution_count": 6,
   "outputs": []
  },
  {
   "cell_type": "code",
   "metadata": {
    "id": "cOe_t4OmrHr9",
    "ExecuteTime": {
     "end_time": "2023-06-19T08:23:11.434559800Z",
     "start_time": "2023-06-19T08:23:11.384136300Z"
    }
   },
   "source": [
    "# Visualize the number of launches over time by the top two organizations\n",
    "fig = px.line(launches_by_year_top_2, x='Year', y='Number of Launches', color='Organisation',\n",
    "              labels={'Year': 'Year', 'Number of Launches': 'Number of Launches', 'Organisation': 'Organization'},\n",
    "              title='Number of Launches Over Time: USA vs USSR')"
   ],
   "execution_count": 6,
   "outputs": []
  },
  {
   "cell_type": "code",
   "execution_count": null,
   "outputs": [],
   "source": [
    "fig.show()  # Display the chart"
   ],
   "metadata": {
    "collapsed": false
   }
  },
  {
   "cell_type": "markdown",
   "metadata": {
    "papermill": {
     "duration": 0.054318,
     "end_time": "2020-10-20T21:34:14.089604",
     "exception": false,
     "start_time": "2020-10-20T21:34:14.035286",
     "status": "completed"
    },
    "tags": [],
    "id": "Os-3A5vLa-q9"
   },
   "source": [
    "## Create a Plotly Pie Chart comparing the total number of launches of the USSR and the USA\n",
    "\n",
    "Hint: Remember to include former Soviet Republics like Kazakhstan when analysing the total number of launches. "
   ]
  },
  {
   "cell_type": "code",
   "metadata": {
    "id": "1irc6_W9rD59",
    "ExecuteTime": {
     "end_time": "2023-06-19T08:23:11.434559800Z",
     "start_time": "2023-06-19T08:23:11.386590300Z"
    }
   },
   "source": [
    "# Load the data into a DataFrame (assuming the data is already loaded into 'df_data')\n",
    "\n",
    "# Filter the data for launches by the USSR and the USA, including launches from Kazakhstan\n",
    "countries = ['USA', 'USSR']\n",
    "df_countries = df_data[df_data['Country'].isin(countries) | df_data['Location'].str.contains('Kazakhstan')]\n",
    "\n",
    "# Replace the country names to combine Kazakhstan under the USSR category\n",
    "df_countries['Country'] = df_countries['Country'].replace({'Kazakhstan': 'USSR'})\n",
    "\n",
    "# Calculate the total number of launches by country\n",
    "launches_by_country = df_countries['Country'].value_counts().reset_index()\n",
    "launches_by_country.columns = ['Country', 'Number of Launches']"
   ],
   "execution_count": 6,
   "outputs": []
  },
  {
   "cell_type": "code",
   "metadata": {
    "id": "OhhuLQycrEE-",
    "ExecuteTime": {
     "end_time": "2023-06-19T08:23:11.434559800Z",
     "start_time": "2023-06-19T08:23:11.388878400Z"
    }
   },
   "source": [
    "# Visualize the total number of launches using a pie chart\n",
    "fig = px.pie(launches_by_country, values='Number of Launches', names='Country',\n",
    "             title='Total Number of Launches: USSR vs USA',\n",
    "             labels={'Number of Launches': 'Number of Launches', 'Country': 'Country'})\n"
   ],
   "execution_count": 6,
   "outputs": []
  },
  {
   "cell_type": "code",
   "execution_count": null,
   "outputs": [],
   "source": [
    "fig.show()  # Display the chart"
   ],
   "metadata": {
    "collapsed": false
   }
  },
  {
   "cell_type": "markdown",
   "metadata": {
    "papermill": {
     "duration": 0.052921,
     "end_time": "2020-10-20T21:34:14.340085",
     "exception": false,
     "start_time": "2020-10-20T21:34:14.287164",
     "status": "completed"
    },
    "tags": [],
    "id": "0C29Zz4xa-rA"
   },
   "source": [
    "## Create a Chart that Shows the Total Number of Launches Year-On-Year by the Two Superpowers"
   ]
  },
  {
   "cell_type": "code",
   "metadata": {
    "id": "9ISKvOiCrS73",
    "ExecuteTime": {
     "end_time": "2023-06-19T08:23:11.435559900Z",
     "start_time": "2023-06-19T08:23:11.391726400Z"
    }
   },
   "source": [
    "# Load the data into a DataFrame (assuming the data is already loaded into 'df_data')\n",
    "\n",
    "# Filter the data for launches by the USA and the USSR\n",
    "countries = ['USA', 'USSR']\n",
    "df_countries = df_data[df_data['Country'].isin(countries)]\n",
    "\n",
    "# Extract the year from the date column\n",
    "df_countries['Year'] = pd.to_datetime(df_countries['Date']).dt.year\n",
    "\n",
    "# Calculate the total number of launches year-on-year by country\n",
    "launches_yearly = df_countries.groupby(['Country', 'Year']).size().reset_index(name='Number of Launches')"
   ],
   "execution_count": 6,
   "outputs": []
  },
  {
   "cell_type": "code",
   "metadata": {
    "id": "oCc7VTzGrTK-",
    "ExecuteTime": {
     "end_time": "2023-06-19T08:23:11.435559900Z",
     "start_time": "2023-06-19T08:23:11.393888Z"
    }
   },
   "source": [
    "# Create a line chart to visualize the total number of launches year-on-year\n",
    "fig = px.line(launches_yearly, x='Year', y='Number of Launches', color='Country',\n",
    "              title='Total Number of Launches Year-On-Year: USA vs USSR',\n",
    "              labels={'Year': 'Year', 'Number of Launches': 'Number of Launches', 'Country': 'Country'})\n"
   ],
   "execution_count": 6,
   "outputs": []
  },
  {
   "cell_type": "code",
   "execution_count": null,
   "outputs": [],
   "source": [
    "fig.show()  # Display the chart"
   ],
   "metadata": {
    "collapsed": false
   }
  },
  {
   "cell_type": "markdown",
   "metadata": {
    "papermill": {
     "duration": 0.079311,
     "end_time": "2020-10-20T21:34:14.933058",
     "exception": false,
     "start_time": "2020-10-20T21:34:14.853747",
     "status": "completed"
    },
    "tags": [],
    "id": "eWv4iZmra-rE"
   },
   "source": [
    "## Chart the Total Number of Mission Failures Year on Year."
   ]
  },
  {
   "cell_type": "code",
   "metadata": {
    "id": "I-Zss5-Mre-4",
    "ExecuteTime": {
     "end_time": "2023-06-19T08:23:11.435559900Z",
     "start_time": "2023-06-19T08:23:11.396336700Z"
    }
   },
   "source": [
    "# Load the data into a DataFrame (assuming the data is already loaded into 'df_data')\n",
    "\n",
    "# Filter the data for mission failures\n",
    "failure_conditions = ['Failure', 'Partial Failure', 'Prelaunch Failure']\n",
    "df_failures = df_data[df_data['Mission_Status'].isin(failure_conditions)].copy()\n",
    "\n",
    "# Extract the year from the date column\n",
    "df_failures['Year'] = pd.to_datetime(df_failures['Date']).dt.year\n",
    "\n",
    "# Calculate the total number of mission failures year-on-year\n",
    "failures_yearly = df_failures.groupby('Year').size().reset_index(name='Number of Failures')\n"
   ],
   "execution_count": 6,
   "outputs": []
  },
  {
   "cell_type": "code",
   "metadata": {
    "id": "7Ps9Iq_crfYl",
    "ExecuteTime": {
     "end_time": "2023-06-19T08:23:11.435559900Z",
     "start_time": "2023-06-19T08:23:11.398646900Z"
    }
   },
   "source": [
    "# Create a line chart to visualize the total number of mission failures year-on-year\n",
    "fig = px.line(failures_yearly, x='Year', y='Number of Failures',\n",
    "              title='Total Number of Mission Failures Year-On-Year',\n",
    "              labels={'Year': 'Year', 'Number of Failures': 'Number of Failures'})\n"
   ],
   "execution_count": 6,
   "outputs": []
  },
  {
   "cell_type": "code",
   "execution_count": null,
   "outputs": [],
   "source": [
    "fig.show()  # Display the chart"
   ],
   "metadata": {
    "collapsed": false
   }
  },
  {
   "cell_type": "markdown",
   "metadata": {
    "id": "XNp-NkrJriEF"
   },
   "source": [
    "## Chart the Percentage of Failures over Time\n",
    "\n",
    "Did failures go up or down over time? Did the countries get better at minimising risk and improving their chances of success over time? "
   ]
  },
  {
   "cell_type": "code",
   "metadata": {
    "id": "Kj3-zsI0rhOS",
    "ExecuteTime": {
     "end_time": "2023-06-19T08:23:11.435559900Z",
     "start_time": "2023-06-19T08:23:11.400953500Z"
    }
   },
   "source": [
    "# Load the data into a DataFrame (assuming the data is already loaded into 'df_data')\n",
    "\n",
    "# Filter the data for mission failures\n",
    "failure_conditions = ['Failure', 'Partial Failure', 'Prelaunch Failure']\n",
    "df_failures = df_data[df_data['Mission_Status'].isin(failure_conditions)].copy()\n",
    "\n",
    "# Extract the year from the date column\n",
    "df_failures['Year'] = pd.to_datetime(df_failures['Date']).dt.year\n",
    "\n",
    "# Calculate the total number of launches year-on-year\n",
    "launches_yearly = df_data.groupby(df_data['Date'].dt.year).size().reset_index(name='Number of Launches')\n",
    "\n",
    "# Calculate the total number of failures year-on-year\n",
    "failures_yearly = df_failures.groupby(df_failures['Year']).size().reset_index(name='Number of Failures')\n",
    "\n",
    "# Merge the number of launches and number of failures DataFrames\n",
    "df_merged = pd.merge(launches_yearly, failures_yearly, how='left', left_on='Date', right_on='Year')\n",
    "\n",
    "# Calculate the percentage of failures over time\n",
    "df_merged['Percentage of Failures'] = (df_merged['Number of Failures'] / df_merged['Number of Launches']) * 100\n"
   ],
   "execution_count": 6,
   "outputs": []
  },
  {
   "cell_type": "code",
   "metadata": {
    "id": "nxnnzx89rwvH",
    "ExecuteTime": {
     "end_time": "2023-06-19T08:23:11.435559900Z",
     "start_time": "2023-06-19T08:23:11.403845Z"
    }
   },
   "source": [
    "# Create a line chart to visualize the percentage of failures over time\n",
    "fig = px.line(df_merged, x='Date', y='Percentage of Failures',\n",
    "              title='Percentage of Failures Over Time',\n",
    "              labels={'Date': 'Year', 'Percentage of Failures': 'Percentage of Failures'})\n"
   ],
   "execution_count": 6,
   "outputs": []
  },
  {
   "cell_type": "code",
   "metadata": {
    "id": "_TPWaaJ5r1Fz",
    "ExecuteTime": {
     "end_time": "2023-06-19T08:23:11.435559900Z",
     "start_time": "2023-06-19T08:23:11.405600400Z"
    }
   },
   "source": [
    "fig.show()  # Display the chart"
   ],
   "execution_count": 6,
   "outputs": []
  },
  {
   "cell_type": "markdown",
   "metadata": {
    "id": "S5aOC7bGr2OX"
   },
   "source": [
    "# For Every Year Show which Country was in the Lead in terms of Total Number of Launches up to and including including 2020)\n",
    "\n",
    "Do the results change if we only look at the number of successful launches? "
   ]
  },
  {
   "cell_type": "code",
   "metadata": {
    "id": "_h0grIXKsOz_",
    "ExecuteTime": {
     "end_time": "2023-06-19T08:23:11.435559900Z",
     "start_time": "2023-06-19T08:23:11.407928600Z"
    }
   },
   "source": [
    "# Load the data into a DataFrame (assuming the data is already loaded into 'df_data')\n",
    "\n",
    "# Filter the data for launches up to and including 2020\n",
    "df_filtered = df_data[df_data['Date'].dt.year <= 2020]\n",
    "\n",
    "# Calculate the total number of launches per year and country\n",
    "launches_by_year_country = df_filtered.groupby(['Date', 'Country']).size().reset_index(name='Number of Launches')\n",
    "\n",
    "# Find the country in the lead in terms of the total number of launches each year\n",
    "df_lead_country = launches_by_year_country.groupby('Date')['Number of Launches'].idxmax()\n",
    "lead_country_per_year = launches_by_year_country.loc[df_lead_country]\n",
    "\n",
    "\n",
    "# Filter the data for successful launches\n",
    "df_success = df_filtered[df_filtered['Mission_Status'] == 'Success']\n",
    "\n",
    "# Calculate the total number of successful launches per year and country\n",
    "success_by_year_country = df_success.groupby(['Date', 'Country']).size().reset_index(name='Number of Successful Launches')\n",
    "\n",
    "# Find the country in the lead in terms of the total number of successful launches each year\n",
    "df_lead_success_country = success_by_year_country.groupby('Date')['Number of Successful Launches'].idxmax()\n",
    "lead_success_country_per_year = success_by_year_country.loc[df_lead_success_country]\n",
    "\n"
   ],
   "execution_count": 6,
   "outputs": []
  },
  {
   "cell_type": "code",
   "metadata": {
    "id": "zgVysedmsOp4",
    "ExecuteTime": {
     "end_time": "2023-06-19T08:23:11.435559900Z",
     "start_time": "2023-06-19T08:23:11.410399400Z"
    }
   },
   "source": [
    "# Create a bar chart to visualize the lead country in terms of the total number of launches each year\n",
    "fig = px.bar(lead_country_per_year, x='Date', y='Number of Launches', color='Country',\n",
    "             title='Lead Country in Total Number of Launches Each Year (All Launches)',\n",
    "             labels={'Date': 'Year', 'Number of Launches': 'Number of Launches', 'Country': 'Country'})\n",
    "\n",
    "# Create a bar chart to visualize the lead country in terms of the total number of successful launches each year\n",
    "fig_success = px.bar(lead_success_country_per_year, x='Date', y='Number of Successful Launches', color='Country',\n",
    "                     title='Lead Country in Total Number of Successful Launches Each Year',\n",
    "                     labels={'Date': 'Year', 'Number of Successful Launches': 'Number of Successful Launches',\n",
    "                             'Country': 'Country'})\n"
   ],
   "execution_count": 6,
   "outputs": []
  },
  {
   "cell_type": "code",
   "execution_count": null,
   "outputs": [],
   "source": [
    "fig.show()  # Display the chart\n",
    "fig_success.show()  # Display the chart"
   ],
   "metadata": {
    "collapsed": false
   }
  },
  {
   "cell_type": "markdown",
   "metadata": {
    "id": "jQcqBfJ8serG"
   },
   "source": [
    "# Create a Year-on-Year Chart Showing the Organisation Doing the Most Number of Launches\n",
    "\n",
    "Which organisation was dominant in the 1970s and 1980s? Which organisation was dominant in 2018, 2019 and 2020? "
   ]
  },
  {
   "cell_type": "code",
   "metadata": {
    "id": "jc9ImQEWsztG",
    "ExecuteTime": {
     "end_time": "2023-06-19T08:23:11.435559900Z",
     "start_time": "2023-06-19T08:23:11.412774900Z"
    }
   },
   "source": [
    "# Load the data into a DataFrame (assuming the data is already loaded into 'df_data')\n",
    "\n",
    "# Filter the data for launches in the desired decades and years\n",
    "df_filtered = df_data[df_data['Date'].dt.year.isin(range(1970, 1980 + 1)) | df_data['Date'].dt.year.isin([2018, 2019, 2020])]\n",
    "\n",
    "# Calculate the number of launches per year and organization\n",
    "launches_by_year_org = df_filtered.groupby(['Date', 'Organisation']).size().reset_index(name='Number of Launches')\n",
    "\n",
    "# Find the organization with the most launches each year\n",
    "df_lead_org = launches_by_year_org.groupby('Date')['Number of Launches'].idxmax()\n",
    "lead_org_per_year = launches_by_year_org.loc[df_lead_org]\n"
   ],
   "execution_count": 6,
   "outputs": []
  },
  {
   "cell_type": "code",
   "metadata": {
    "id": "r5frxzwlsz5W",
    "ExecuteTime": {
     "end_time": "2023-06-19T08:23:11.435559900Z",
     "start_time": "2023-06-19T08:23:11.426442900Z"
    }
   },
   "source": [
    "# Create a bar chart to visualize the organization with the most launches each year\n",
    "fig = px.bar(lead_org_per_year, x='Date', y='Number of Launches', color='Organisation',\n",
    "             title='Organization with the Most Launches Each Year',\n",
    "             labels={'Date': 'Year', 'Number of Launches': 'Number of Launches', 'Organisation': 'Organization'})\n"
   ],
   "execution_count": 6,
   "outputs": []
  },
  {
   "cell_type": "code",
   "metadata": {
    "papermill": {
     "duration": 0.092403,
     "end_time": "2020-10-20T21:34:26.709168",
     "exception": false,
     "start_time": "2020-10-20T21:34:26.616765",
     "status": "completed"
    },
    "tags": [],
    "id": "8vHKpuc5a-rc",
    "ExecuteTime": {
     "end_time": "2023-06-19T08:23:11.435559900Z",
     "start_time": "2023-06-19T08:23:11.426442900Z"
    }
   },
   "source": [
    "fig.show()  # Display the chart"
   ],
   "execution_count": 6,
   "outputs": []
  }
 ]
}
